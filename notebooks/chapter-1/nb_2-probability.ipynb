{
 "cells": [
  {
   "cell_type": "markdown",
   "metadata": {},
   "source": [
    "# Probability"
   ]
  },
  {
   "cell_type": "code",
   "execution_count": 1,
   "metadata": {},
   "outputs": [],
   "source": [
    "import numpy as np\n",
    "import matplotlib.pyplot as plt"
   ]
  },
  {
   "cell_type": "markdown",
   "metadata": {},
   "source": [
    "<img src=\"https://drive.google.com/uc?id=1Fev1pOn8NeCpwIPW0VN2xaeLvj8nwbU8\" width=320 height=640>"
   ]
  },
  {
   "cell_type": "markdown",
   "metadata": {},
   "source": [
    "for example, let us random generate the numbers of trials($n_{ij}$)"
   ]
  },
  {
   "cell_type": "code",
   "execution_count": 3,
   "metadata": {},
   "outputs": [
    {
     "data": {
      "image/png": "[encoded data removed]",
      "text/plain": [
       "<Figure size 432x288 with 1 Axes>"
      ]
     },
     "metadata": {
      "needs_background": "light"
     },
     "output_type": "display_data"
    }
   ],
   "source": [
    "np.random.seed(777)\n",
    "A = np.random.randint(1, 10, size=(3, 5))\n",
    "fig, ax = plt.subplots(1, 1)\n",
    "ax.matshow(A, cmap=\"coolwarm\")\n",
    "\n",
    "for (i, j), z in np.ndenumerate(A):\n",
    "    ax.text(j, i, f\"{z}\", ha=\"center\", va=\"center\")\n",
    "ax.set_xticklabels(np.arange(0, 6))\n",
    "ax.set_yticklabels(np.arange(0, 4))\n",
    "ax.set_xlabel(\"$X$\", fontsize=20)\n",
    "ax.set_ylabel(\"$Y$\", fontsize=20).set_rotation(0)\n",
    "\n",
    "plt.show()\n",
    "# fig.savefig(str(fig_path/\"1.2.3-probexample.png\"))"
   ]
  },
  {
   "cell_type": "markdown",
   "metadata": {},
   "source": [
    "so the probability of $p(X=x_i, Y=y_j)$ is following function."
   ]
  },
  {
   "cell_type": "code",
   "execution_count": 14,
   "metadata": {},
   "outputs": [
    {
     "name": "stdout",
     "output_type": "stream",
     "text": [
      "0.3333\n"
     ]
    }
   ],
   "source": [
    "def joint_probability(i, j, A):\n",
    "    \"\"\"\n",
    "    i: x element(column of A)\n",
    "    j: y element(row of A)\n",
    "    \"\"\"\n",
    "    return A[j, i] / A.size\n",
    "\n",
    "# x_1, y_2 --> 5/15\n",
    "p_x1y2 = joint_probability(0, 1, A)\n",
    "print(round(p_x1y2, 4))"
   ]
  },
  {
   "cell_type": "code",
   "execution_count": 19,
   "metadata": {},
   "outputs": [
    {
     "name": "stdout",
     "output_type": "stream",
     "text": [
      "0.1687\n"
     ]
    }
   ],
   "source": [
    "def marginal_probability(i, A, axis=0):\n",
    "    \"\"\"\n",
    "    i: x element(column of A)\n",
    "    \"\"\"\n",
    "    A_sum = A.sum(axis=axis)\n",
    "    return A_sum[i] / A_sum.sum()\n",
    "\n",
    "# x_1 --> (8 + 5 + 1) / 83\n",
    "p_x1 = marginal_probability(0, A, axis=0)\n",
    "print(round(p_x1, 4))"
   ]
  },
  {
   "cell_type": "code",
   "execution_count": null,
   "metadata": {},
   "outputs": [],
   "source": []
  },
  {
   "cell_type": "code",
   "execution_count": null,
   "metadata": {},
   "outputs": [],
   "source": []
  },
  {
   "cell_type": "code",
   "execution_count": null,
   "metadata": {},
   "outputs": [],
   "source": []
  },
  {
   "cell_type": "code",
   "execution_count": 95,
   "metadata": {},
   "outputs": [
    {
     "data": {
      "image/png": "[encoded data removed]",
      "text/plain": [
       "<Figure size 432x288 with 1 Axes>"
      ]
     },
     "metadata": {
      "needs_background": "light"
     },
     "output_type": "display_data"
    }
   ],
   "source": [
    "np.random.seed(99)\n",
    "x1 = np.random.normal(1.0, .5, size=(30, 2))\n",
    "x2 = np.random.normal(3.0, .5, size=(20, 2))\n",
    "plt.scatter(x1[:, 0], x1[:, 1], label=\"x1\", c=\"r\")\n",
    "plt.scatter(x2[:, 0], x2[:, 1], label=\"x2\", c=\"b\")\n",
    "plt.show()"
   ]
  },
  {
   "cell_type": "code",
   "execution_count": 96,
   "metadata": {},
   "outputs": [
    {
     "name": "stdout",
     "output_type": "stream",
     "text": [
      "-0.5 0 1\n",
      "0 0.5 2\n",
      "0.5 1.0 13\n",
      "1.0 1.5 9\n",
      "1.5 2.0 6\n",
      "2.0 2.5 5\n",
      "2.5 3.0 6\n",
      "3.0 3.5 6\n",
      "3.5 4.0 2\n"
     ]
    },
    {
     "data": {
      "text/plain": [
       "[1, 2, 13, 9, 6, 5, 6, 6, 2]"
      ]
     },
     "execution_count": 96,
     "metadata": {},
     "output_type": "execute_result"
    }
   ],
   "source": [
    "rng = [-0.5, 0, 0.5, 1.0, 1.5, 2.0, 2.5, 3.0, 3.5, 4.0]\n",
    "X = np.concatenate((x1, x2))\n",
    "X_prob_cnt = []\n",
    "for a, b in zip(rng[:-1], rng[1:]):\n",
    "    cnt = 0\n",
    "    for x in sorted(X[:, 0]):\n",
    "        if x <= b and x > a:\n",
    "            cnt += 1\n",
    "    print(a, b, cnt)\n",
    "    X_prob_cnt.append(cnt)\n",
    "X_prob_cnt"
   ]
  },
  {
   "cell_type": "code",
   "execution_count": 97,
   "metadata": {},
   "outputs": [
    {
     "data": {
      "text/plain": [
       "<BarContainer object of 9 artists>"
      ]
     },
     "execution_count": 97,
     "metadata": {},
     "output_type": "execute_result"
    },
    {
     "data": {
      "image/png": "[encoded data removed]",
      "text/plain": [
       "<Figure size 432x288 with 1 Axes>"
      ]
     },
     "metadata": {
      "needs_background": "light"
     },
     "output_type": "display_data"
    }
   ],
   "source": [
    "plt.bar(np.arange(len(X_prob_cnt)), height=X_prob_cnt)"
   ]
  },
  {
   "cell_type": "code",
   "execution_count": 98,
   "metadata": {},
   "outputs": [],
   "source": [
    "x1_max = x1[:, 1].max()\n",
    "x2_min = x2[:, 1].min()\n",
    "assert x1_max < x2_min, \"조건을 만족해야합니다.\""
   ]
  },
  {
   "cell_type": "code",
   "execution_count": 99,
   "metadata": {},
   "outputs": [
    {
     "data": {
      "text/plain": [
       "[30, 20]"
      ]
     },
     "execution_count": 99,
     "metadata": {},
     "output_type": "execute_result"
    }
   ],
   "source": [
    "Y_prob_cnt = []\n",
    "cnt1 = 0\n",
    "cnt2 = 0\n",
    "for y in sorted(X[:, 1]):\n",
    "    if y <= x1_max:\n",
    "        cnt1 += 1\n",
    "    else:\n",
    "        cnt2 += 1\n",
    "Y_prob_cnt.append(cnt1)\n",
    "Y_prob_cnt.append(cnt2)\n",
    "Y_prob_cnt"
   ]
  },
  {
   "cell_type": "code",
   "execution_count": 100,
   "metadata": {},
   "outputs": [
    {
     "data": {
      "text/plain": [
       "<BarContainer object of 2 artists>"
      ]
     },
     "execution_count": 100,
     "metadata": {},
     "output_type": "execute_result"
    },
    {
     "data": {
      "image/png": "[encoded data removed]",
      "text/plain": [
       "<Figure size 432x288 with 1 Axes>"
      ]
     },
     "metadata": {
      "needs_background": "light"
     },
     "output_type": "display_data"
    }
   ],
   "source": [
    "plt.bar(np.arange(len(Y_prob_cnt)), height=Y_prob_cnt)"
   ]
  },
  {
   "cell_type": "code",
   "execution_count": 101,
   "metadata": {},
   "outputs": [
    {
     "data": {
      "text/plain": [
       "[-0.5, 0, 0.5, 1.0, 1.5, 2.0, 2.5, 3.0, 3.5, 4.0]"
      ]
     },
     "execution_count": 101,
     "metadata": {},
     "output_type": "execute_result"
    }
   ],
   "source": [
    "rng"
   ]
  },
  {
   "cell_type": "code",
   "execution_count": 102,
   "metadata": {},
   "outputs": [],
   "source": [
    "X = np.concatenate((x1, x2))\n",
    "XY_prob_cnt = []\n",
    "for a, b in zip(rng[:-1], rng[1:]):\n",
    "    cnt = 0\n",
    "    for x, y in X:\n",
    "        if x <= b and x > a and y <= x1_max:\n",
    "            cnt += 1\n",
    "    XY_prob_cnt.append(cnt)"
   ]
  },
  {
   "cell_type": "code",
   "execution_count": 103,
   "metadata": {},
   "outputs": [
    {
     "data": {
      "text/plain": [
       "[1, 2, 13, 9, 4, 1, 0, 0, 0]"
      ]
     },
     "execution_count": 103,
     "metadata": {},
     "output_type": "execute_result"
    }
   ],
   "source": [
    "XY_prob_cnt"
   ]
  },
  {
   "cell_type": "code",
   "execution_count": 104,
   "metadata": {},
   "outputs": [
    {
     "data": {
      "text/plain": [
       "<BarContainer object of 9 artists>"
      ]
     },
     "execution_count": 104,
     "metadata": {},
     "output_type": "execute_result"
    },
    {
     "data": {
      "image/png": "[encoded data removed]",
      "text/plain": [
       "<Figure size 432x288 with 1 Axes>"
      ]
     },
     "metadata": {
      "needs_background": "light"
     },
     "output_type": "display_data"
    }
   ],
   "source": [
    "plt.bar(np.arange(len(XY_prob_cnt)), height=XY_prob_cnt)"
   ]
  },
  {
   "cell_type": "code",
   "execution_count": 105,
   "metadata": {},
   "outputs": [
    {
     "data": {
      "text/plain": [
       "<BarContainer object of 9 artists>"
      ]
     },
     "execution_count": 105,
     "metadata": {},
     "output_type": "execute_result"
    },
    {
     "data": {
      "image/png": "[encoded data removed]",
      "text/plain": [
       "<Figure size 1152x1152 with 4 Axes>"
      ]
     },
     "metadata": {
      "needs_background": "light"
     },
     "output_type": "display_data"
    }
   ],
   "source": [
    "fig, axes = plt.subplots(2, 2, figsize=(16, 16))\n",
    "(ax1, ax2), (ax3, ax4) = axes\n",
    "ax1.scatter(x1[:, 0], x1[:, 1], label=\"Y=1\", c=\"r\")\n",
    "ax1.scatter(x2[:, 0], x2[:, 1], label=\"Y=2\", c=\"b\")\n",
    "ax1.legend(loc=\"upper left\")\n",
    "ax1.set_xlabel(\"X\")\n",
    "ax2.barh(np.arange(len(Y_prob_cnt)), width=Y_prob_cnt)\n",
    "ax3.bar(np.arange(len(X_prob_cnt)), height=X_prob_cnt)\n",
    "ax4.bar(np.arange(len(XY_prob_cnt)), height=XY_prob_cnt)"
   ]
  },
  {
   "cell_type": "markdown",
   "metadata": {},
   "source": [
    "MLE"
   ]
  },
  {
   "cell_type": "code",
   "execution_count": 1,
   "metadata": {},
   "outputs": [],
   "source": [
    "import numpy as np\n",
    "from scipy.special import comb\n",
    "import matplotlib.pyplot as plt"
   ]
  },
  {
   "cell_type": "code",
   "execution_count": 2,
   "metadata": {},
   "outputs": [],
   "source": [
    "def binomial(theta, n, x):\n",
    "    \"\"\"\n",
    "    theta: probability\n",
    "    n: number of trials\n",
    "    x: number of value that random variable X can be\n",
    "    \"\"\"\n",
    "    return comb(n, x) * (theta**x) * (1-theta)**(n-x)"
   ]
  },
  {
   "cell_type": "code",
   "execution_count": 3,
   "metadata": {},
   "outputs": [
    {
     "data": {
      "image/png": "[encoded data removed]",
      "text/plain": [
       "<Figure size 1872x216 with 7 Axes>"
      ]
     },
     "metadata": {
      "needs_background": "light"
     },
     "output_type": "display_data"
    }
   ],
   "source": [
    "probs = np.linspace(0, 1, num=50)\n",
    "N = 6\n",
    "X = np.arange(0, N+1)\n",
    "\n",
    "H = N // 6\n",
    "fig, axes = plt.subplots(1, N+1, figsize=(26, 3), sharey=True)\n",
    "for x, ax in zip(X, axes):\n",
    "    L = binomial(probs, N, x)\n",
    "    max_y, max_x = L.max(), probs[L.argmax()]\n",
    "    ax.scatter(probs, L, s=3)\n",
    "    ax.scatter(max_x, max_y, s=20, c=\"red\")\n",
    "    ax.set_title(f\"N={N}, X={x}\")\n",
    "plt.show()"
   ]
  },
  {
   "cell_type": "code",
   "execution_count": 4,
   "metadata": {},
   "outputs": [],
   "source": [
    "def normal_dist(x, mu, sigma):\n",
    "    return 1/np.sqrt(2*np.pi*sigma**2) * np.exp(-(1/(2*sigma**2))*(x-mu)**2)"
   ]
  },
  {
   "cell_type": "code",
   "execution_count": 5,
   "metadata": {},
   "outputs": [
    {
     "data": {
      "image/png": "[encoded data removed]",
      "text/plain": [
       "<Figure size 432x288 with 1 Axes>"
      ]
     },
     "metadata": {
      "needs_background": "light"
     },
     "output_type": "display_data"
    }
   ],
   "source": [
    "delta = 0.01\n",
    "X = np.linspace(-5, 5, 100)\n",
    "mu, sigma = 1, 1\n",
    "Y = normal_dist(X, mu, sigma)\n",
    "plt.scatter(X, Y)\n",
    "plt.show()"
   ]
  },
  {
   "cell_type": "markdown",
   "metadata": {},
   "source": [
    "## Binomial - Bayesian"
   ]
  },
  {
   "cell_type": "code",
   "execution_count": null,
   "metadata": {},
   "outputs": [],
   "source": []
  }
 ],
 "metadata": {
  "kernelspec": {
   "display_name": "Python 3",
   "language": "python",
   "name": "python3"
  },
  "language_info": {
   "codemirror_mode": {
    "name": "ipython",
    "version": 3
   },
   "file_extension": ".py",
   "mimetype": "text/x-python",
   "name": "python",
   "nbconvert_exporter": "python",
   "pygments_lexer": "ipython3",
   "version": "3.6.9"
  }
 },
 "nbformat": 4,
 "nbformat_minor": 4
}
