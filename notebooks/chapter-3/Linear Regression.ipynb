{
 "cells": [
  {
   "cell_type": "code",
   "execution_count": 1,
   "metadata": {},
   "outputs": [],
   "source": [
    "import numpy as np\n",
    "import matplotlib.pyplot as plt\n",
    "%matplotlib inline"
   ]
  },
  {
   "cell_type": "markdown",
   "metadata": {},
   "source": [
    "## 데이터 생성\n",
    "\n",
    "$$\\begin{aligned}\n",
    "\\text{model function}&: y(x, \\mathbf{w}) = w_0 + w_1 x\\\\\n",
    "\\text{real function} &: f(x, \\mathbf{a}) = a_0 + a_1 x +\\eta\n",
    "\\end{aligned}$$\n",
    "\n",
    "$$\\begin{aligned}\n",
    "x_n &\\sim U(x \\vert -1, 1) \\\\\n",
    "t_n &= f(x, \\mathbf{a}) = a_0 + a_1 x +\\eta\\\\\n",
    "\\quad& \\eta \\sim \\mathcal{N}(0, sigma^2), \\quad \\text{where }\\sigma=0.2 \\\\\n",
    "\\quad& a = (a_0, a_1) = (-0.3, 0.5) \\\\\n",
    "\\end{aligned}$$\n",
    "\n",
    "* purpose: given $\\beta = \\sigma^{-2} = 25$, calculate $w$"
   ]
  },
  {
   "cell_type": "code",
   "execution_count": 13,
   "metadata": {},
   "outputs": [
    {
     "name": "stdout",
     "output_type": "stream",
     "text": [
      "x = \n",
      "[-0.69 -0.4  -0.88 -0.08  0.67  0.85  0.45  0.54 -0.46  0.29 -0.81 -0.84\n",
      "  0.18 -0.31  0.98  0.25  0.36  0.1  -0.46 -0.25]\n",
      "t = \n",
      "[-0.67 -0.52 -0.79 -0.36  0.07  0.14 -0.13 -0.   -0.51 -0.17 -0.7  -0.78\n",
      " -0.11 -0.44  0.18 -0.17 -0.08 -0.25 -0.55 -0.41]\n"
     ]
    },
    {
     "data": {
      "image/png": "[encoded data removed]",
      "text/plain": [
       "<Figure size 432x288 with 1 Axes>"
      ]
     },
     "metadata": {
      "needs_background": "light"
     },
     "output_type": "display_data"
    }
   ],
   "source": [
    "np.random.seed(777)\n",
    "N = 20  # data points\n",
    "a = np.array([-0.3, 0.5])  # the real weight\n",
    "def target_function(x, a, add=True):\n",
    "    \"\"\"\n",
    "    **only support single variable**\n",
    "    function: f(x, a)\n",
    "    add: if x doesn't contain 1 vector for bias term, \n",
    "         automatically create it\n",
    "    \"\"\"\n",
    "    N = x.shape[0]\n",
    "    if add:\n",
    "        x = np.vander(x, N=2, increasing=True)  # (N, 2)\n",
    "\n",
    "    eta = np.random.normal(scale=0.2**2, size=(N,))\n",
    "    return x.dot(a) + eta\n",
    "\n",
    "x = np.random.uniform(low=-1, high=1, size=(N,))\n",
    "t = target_function(x, a, add=True)\n",
    "print(f\"x = \\n{x.round(2)}\")\n",
    "print(f\"t = \\n{t.round(2)}\")\n",
    "plt.scatter(x, t, edgecolors=\"b\", facecolors=\"none\", marker=\"o\")\n",
    "plt.show()"
   ]
  },
  {
   "cell_type": "markdown",
   "metadata": {},
   "source": [
    "## 사전 켤례 분포(Congungate Prior):\n",
    "\n",
    "$p(\\mathbf{w}) = \\mathcal{N}(\\mathbf{w} \\vert m_0, S_0)$\n",
    "\n",
    "* $n=0$ 아직 데이터가 주어지지 않았을 때, $m_0$: 평균, $S_0$: 공분산\n",
    "\n",
    "## 사후 분포(Posterior)\n",
    "\n",
    "$p(\\mathbf{w} \\vert \\mathbf{t}) = \\mathcal{N}(\\mathbf{w} \\vert m_N, S_N)$\n",
    "\n",
    "* $n=N$ 데이터를 전부 사용한 경우, $m_N$: 평균, $S_N$: 분산\n",
    "\n",
    "* 평균과 분산을 구하는 과정\n",
    "$\\begin{aligned}m_N &= S_N(S_0^{-1}m_0 + \\beta\\Phi^T\\mathbf{t})\\\\\n",
    "S_N^{-1} &= S_0^{-1} + \\beta \\Phi^T\\Phi\\end{aligned}$\n",
    "\n",
    "* http://www.cs.utoronto.ca/~radford/csc2541.S11/week6.pdf\n",
    "\n",
    "* Simplify\n",
    "\n",
    "$$p(\\mathbf{w} \\vert \\alpha) = \\mathcal{N}(\\mathbf{w}\\vert 0, \\alpha^{-1}\\mathbf{I}) \\\\\n",
    "\\downarrow \\\\\n",
    "\\begin{aligned}m_N &= \\beta S_N\\Phi^T\\mathbf{t}\\\\\n",
    "S_N^{-1} &= \\alpha\\mathbf{I}+\\beta \\Phi^T\\Phi\\end{aligned}$$"
   ]
  },
  {
   "cell_type": "code",
   "execution_count": 3,
   "metadata": {},
   "outputs": [],
   "source": [
    "def Gaussian(x, mean, cov):\n",
    "    \"\"\"\n",
    "    x : last dimension must be number of variable demension (*batch, 1, D), D is dimension of random variable x\n",
    "        For instance 1-D shape should be (N, 1, 1)\n",
    "        support if `x.ndim == 1` automatically change to (batch, 1, 1)\n",
    "    mean : D-dimension mean vector\n",
    "    cov : covariance\n",
    "    \"\"\"\n",
    "    assert isinstance(x, np.ndarray), \"input must be np.ndarray\"\n",
    "    # change dimension for 1-D array\n",
    "    if x.ndim == 1:\n",
    "        x = x.reshape(x.size, 1, 1)\n",
    "        if not isinstance(cov, np.ndarray):\n",
    "            cov = np.array([[cov]])\n",
    "        elif (cov.ndim == 1):\n",
    "            cov = cov.reshape(1, 1)\n",
    "    assert x.shape[-2] == 1, \"must be a row vector, so x.shape[-2]==1\"\n",
    "    D = x.shape[-1]\n",
    "    N_dims = len(x.shape)\n",
    "    # mahalanobis distance: \\Delta^2\n",
    "    trans_axes = list(range(N_dims-2)) + [N_dims-1, N_dims-2]\n",
    "    distance = np.squeeze((1/2)*np.matmul((x - mean).dot(np.linalg.inv(cov)), np.transpose((x - mean), axes=trans_axes)))\n",
    "    return (2*np.pi)**(-D/2)*np.linalg.det(cov)**(-1/2)*np.exp(-distance)"
   ]
  },
  {
   "cell_type": "code",
   "execution_count": 4,
   "metadata": {},
   "outputs": [],
   "source": [
    "sigma = 0.2\n",
    "alpha = 2.0\n",
    "beta = 1/sigma**2\n",
    "\n",
    "def Posterior_mu(x, cov, t, alpha, beta):\n",
    "    # Phi\n",
    "    V = np.vander(x, N=2, increasing=True)\n",
    "    return beta*cov.dot(V.T).dot(t)\n",
    "\n",
    "def Posterior_cov(x, alpha, beta):\n",
    "    # Phi\n",
    "    V = np.vander(x, N=2, increasing=True)\n",
    "    covinv = alpha*np.eye(2) + beta*V.T.dot(V)\n",
    "    return np.linalg.inv(covinv)"
   ]
  },
  {
   "cell_type": "code",
   "execution_count": 5,
   "metadata": {},
   "outputs": [],
   "source": [
    "from matplotlib import cm\n",
    "\n",
    "# Prior \n",
    "ws = np.linspace(-1, 1, 100)\n",
    "wx, wy = np.meshgrid(ws, ws)\n",
    "X = np.dstack([wx, wy])[:, :, np.newaxis]\n",
    "prior_g = Gaussian(X, mean=np.zeros(2), cov=alpha**(-1)*np.eye(2))"
   ]
  },
  {
   "cell_type": "code",
   "execution_count": 6,
   "metadata": {},
   "outputs": [
    {
     "data": {
      "image/png": "[encoded data removed]",
      "text/plain": [
       "<Figure size 432x432 with 1 Axes>"
      ]
     },
     "metadata": {
      "needs_background": "light"
     },
     "output_type": "display_data"
    }
   ],
   "source": [
    "fig, ax = plt.subplots(1, 1, figsize=(6, 6))\n",
    "cset = ax.contourf(wx, wy, prior_g, cmap=cm.coolwarm)\n",
    "plt.show()"
   ]
  },
  {
   "cell_type": "code",
   "execution_count": 16,
   "metadata": {},
   "outputs": [],
   "source": [
    "cov_post = Posterior_cov(x, alpha, beta)\n",
    "mu_post = Posterior_mu(x, cov_post, t, alpha, beta)\n",
    "posterior_g = Gaussian(np.dstack([wx, wy])[:, :, np.newaxis], \n",
    "                   mean=mu_post, cov=cov_post)"
   ]
  },
  {
   "cell_type": "code",
   "execution_count": 17,
   "metadata": {},
   "outputs": [
    {
     "data": {
      "image/png": "[encoded data removed]",
      "text/plain": [
       "<Figure size 432x432 with 1 Axes>"
      ]
     },
     "metadata": {
      "needs_background": "light"
     },
     "output_type": "display_data"
    }
   ],
   "source": [
    "fig, ax = plt.subplots(1, 1, figsize=(6, 6))\n",
    "cset = ax.contourf(wx, wy, posterior_g, cmap=cm.coolwarm)\n",
    "plt.show()"
   ]
  },
  {
   "cell_type": "markdown",
   "metadata": {},
   "source": [
    "* Likelihood\n",
    "\n",
    "$$p(\\mathbf{t} \\vert \\mathbf{w}) = \\dfrac{1}{(2\\pi\\sigma^2)^{1/2}}\\exp \\Big\\{ -\\dfrac{1}{2\\sigma^2}(t \\Big\\}$$"
   ]
  },
  {
   "cell_type": "code",
   "execution_count": null,
   "metadata": {},
   "outputs": [],
   "source": []
  }
 ],
 "metadata": {
  "kernelspec": {
   "display_name": "Python(venv)",
   "language": "python",
   "name": "venv"
  },
  "language_info": {
   "codemirror_mode": {
    "name": "ipython",
    "version": 3
   },
   "file_extension": ".py",
   "mimetype": "text/x-python",
   "name": "python",
   "nbconvert_exporter": "python",
   "pygments_lexer": "ipython3",
   "version": "3.6.8"
  }
 },
 "nbformat": 4,
 "nbformat_minor": 2
}
